{
 "cells": [
  {
   "cell_type": "markdown",
   "id": "d94e9f09",
   "metadata": {},
   "source": [
    "# Daily Coading Problem 04"
   ]
  },
  {
   "cell_type": "raw",
   "id": "89612e4a",
   "metadata": {},
   "source": [
    "This problem was asked by Stripe.\n",
    "\n",
    "Given an array of integers, find the first missing positive integer in linear time and constant space. In other words, find the lowest positive integer that does not exist in the array. The array can contain duplicates and negative numbers as well.\n",
    "\n",
    "For example, the input [3, 4, -1, 1] should give 2. The input [1, 2, 0] should give 3.\n",
    "\n",
    "You can modify the input array in-place.\n",
    "\n"
   ]
  },
  {
   "cell_type": "code",
   "execution_count": 31,
   "id": "2a3c97e2",
   "metadata": {},
   "outputs": [
    {
     "data": {
      "text/plain": [
       "6"
      ]
     },
     "execution_count": 31,
     "metadata": {},
     "output_type": "execute_result"
    }
   ],
   "source": [
    "def missing_positive_integer(my_list):\n",
    "    max_value = max(my_list)\n",
    "    my_list = [num for num in range(1,max_value) if num not in my_list]\n",
    "    if len(my_list) == 0:\n",
    "        my_list.append(max_value+1)\n",
    "\n",
    "    return min(my_list)\n",
    "\n",
    "my_list = [1,2,3,4,5]\n",
    "missing_positive_integer(my_list)\n",
    "\n",
    "\n",
    "#Test cases:\n",
    "#my_list = [1,2,0]               output : 3\n",
    "#my_list = [5, 3, 4, -1, 1, 2]   output : 6\n",
    "#my_list = [1,2,3,4,5]           output : 6\n",
    "#my_list = [3, 4, -1, 1]         output : 2\n",
    "#my_list = [2, 3, 4, 1]          output : 5\n",
    "#my_list = [1,0]                 output : 2"
   ]
  },
  {
   "cell_type": "code",
   "execution_count": null,
   "id": "27188701",
   "metadata": {},
   "outputs": [],
   "source": []
  }
 ],
 "metadata": {
  "kernelspec": {
   "display_name": "Python 3 (ipykernel)",
   "language": "python",
   "name": "python3"
  },
  "language_info": {
   "codemirror_mode": {
    "name": "ipython",
    "version": 3
   },
   "file_extension": ".py",
   "mimetype": "text/x-python",
   "name": "python",
   "nbconvert_exporter": "python",
   "pygments_lexer": "ipython3",
   "version": "3.8.10"
  }
 },
 "nbformat": 4,
 "nbformat_minor": 5
}
